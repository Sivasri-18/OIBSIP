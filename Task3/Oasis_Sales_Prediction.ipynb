{
 "cells": [
  {
   "cell_type": "markdown",
   "id": "48c0f79f",
   "metadata": {},
   "source": [
    "# Sales Prediction Model"
   ]
  },
  {
   "cell_type": "markdown",
   "id": "aec1cc33",
   "metadata": {},
   "source": [
    "A machine learning model to predict how much of a product will buy in future.\n",
    "ALGORITHM : Random Forest Regressor\n",
    "INPUT : Sales regarding 3 products\n",
    "OUTPUT: Total sales values"
   ]
  },
  {
   "cell_type": "code",
   "execution_count": 2,
   "id": "f2a10098",
   "metadata": {},
   "outputs": [],
   "source": [
    "#importing required libraries\n",
    "import pandas as pd\n",
    "import matplotlib.pyplot as plt\n",
    "from sklearn.model_selection import train_test_split\n",
    "from sklearn.ensemble import RandomForestRegressor\n",
    "from sklearn.metrics import mean_squared_error\n",
    "import math"
   ]
  },
  {
   "cell_type": "code",
   "execution_count": 3,
   "id": "c2c7a6fd",
   "metadata": {},
   "outputs": [],
   "source": [
    "#importing data set\n",
    "df = pd.DataFrame(pd.read_csv(r\"C:\\Users\\SIVASRI\\Downloads\\OASIS\\Advertising.csv\"))"
   ]
  },
  {
   "cell_type": "code",
   "execution_count": 4,
   "id": "214e1a3f",
   "metadata": {},
   "outputs": [
    {
     "data": {
      "text/html": [
       "<div>\n",
       "<style scoped>\n",
       "    .dataframe tbody tr th:only-of-type {\n",
       "        vertical-align: middle;\n",
       "    }\n",
       "\n",
       "    .dataframe tbody tr th {\n",
       "        vertical-align: top;\n",
       "    }\n",
       "\n",
       "    .dataframe thead th {\n",
       "        text-align: right;\n",
       "    }\n",
       "</style>\n",
       "<table border=\"1\" class=\"dataframe\">\n",
       "  <thead>\n",
       "    <tr style=\"text-align: right;\">\n",
       "      <th></th>\n",
       "      <th>TV</th>\n",
       "      <th>Radio</th>\n",
       "      <th>Newspaper</th>\n",
       "      <th>Sales</th>\n",
       "    </tr>\n",
       "  </thead>\n",
       "  <tbody>\n",
       "    <tr>\n",
       "      <th>0</th>\n",
       "      <td>230.1</td>\n",
       "      <td>37.8</td>\n",
       "      <td>69.2</td>\n",
       "      <td>22.1</td>\n",
       "    </tr>\n",
       "    <tr>\n",
       "      <th>1</th>\n",
       "      <td>44.5</td>\n",
       "      <td>39.3</td>\n",
       "      <td>45.1</td>\n",
       "      <td>10.4</td>\n",
       "    </tr>\n",
       "    <tr>\n",
       "      <th>2</th>\n",
       "      <td>17.2</td>\n",
       "      <td>45.9</td>\n",
       "      <td>69.3</td>\n",
       "      <td>9.3</td>\n",
       "    </tr>\n",
       "    <tr>\n",
       "      <th>3</th>\n",
       "      <td>151.5</td>\n",
       "      <td>41.3</td>\n",
       "      <td>58.5</td>\n",
       "      <td>18.5</td>\n",
       "    </tr>\n",
       "    <tr>\n",
       "      <th>4</th>\n",
       "      <td>180.8</td>\n",
       "      <td>10.8</td>\n",
       "      <td>58.4</td>\n",
       "      <td>12.9</td>\n",
       "    </tr>\n",
       "  </tbody>\n",
       "</table>\n",
       "</div>"
      ],
      "text/plain": [
       "      TV  Radio  Newspaper  Sales\n",
       "0  230.1   37.8       69.2   22.1\n",
       "1   44.5   39.3       45.1   10.4\n",
       "2   17.2   45.9       69.3    9.3\n",
       "3  151.5   41.3       58.5   18.5\n",
       "4  180.8   10.8       58.4   12.9"
      ]
     },
     "execution_count": 4,
     "metadata": {},
     "output_type": "execute_result"
    }
   ],
   "source": [
    "#Deleting unnecessary columns\n",
    "df.drop(['Unnamed: 0'],axis = 1,inplace = True)\n",
    "df.head()"
   ]
  },
  {
   "cell_type": "code",
   "execution_count": 5,
   "id": "1e67c082",
   "metadata": {},
   "outputs": [
    {
     "data": {
      "image/png": "[encoded data removed]",
      "text/plain": [
       "<Figure size 432x288 with 1 Axes>"
      ]
     },
     "metadata": {
      "needs_background": "light"
     },
     "output_type": "display_data"
    }
   ],
   "source": [
    "#Data visualization\n",
    "plt.scatter(df.TV,df.Sales,label='TV effect')\n",
    "plt.scatter(df.Radio,df.Sales,label = 'Radio effect')\n",
    "plt.scatter(df.Newspaper,df.Sales,label = 'Newpaper effect')\n",
    "plt.legend()\n",
    "plt.title('Input vs Output')\n",
    "plt.show()"
   ]
  },
  {
   "cell_type": "code",
   "execution_count": 6,
   "id": "f110fe5b",
   "metadata": {},
   "outputs": [],
   "source": [
    "#Taking input and output values\n",
    "x=df.drop('Sales',axis = 1)\n",
    "y=df.Sales"
   ]
  },
  {
   "cell_type": "code",
   "execution_count": 7,
   "id": "8fa4c65b",
   "metadata": {},
   "outputs": [],
   "source": [
    "#dividing training and testing data set\n",
    "x_tr,x_ts,y_tr,y_ts=train_test_split(x,y,test_size=0.20,random_state=3)"
   ]
  },
  {
   "cell_type": "code",
   "execution_count": 8,
   "id": "bd047c85",
   "metadata": {},
   "outputs": [
    {
     "data": {
      "text/plain": [
       "RandomForestRegressor()"
      ]
     },
     "execution_count": 8,
     "metadata": {},
     "output_type": "execute_result"
    }
   ],
   "source": [
    "#Building and training machine learning model\n",
    "clf = RandomForestRegressor()\n",
    "clf.fit(x_tr, y_tr)"
   ]
  },
  {
   "cell_type": "code",
   "execution_count": 9,
   "id": "471329e6",
   "metadata": {},
   "outputs": [
    {
     "data": {
      "text/plain": [
       "0.9810530581608256"
      ]
     },
     "execution_count": 9,
     "metadata": {},
     "output_type": "execute_result"
    }
   ],
   "source": [
    "#measuring the score value\n",
    "clf.score(x_ts,y_ts)"
   ]
  },
  {
   "cell_type": "code",
   "execution_count": 10,
   "id": "b75231e7",
   "metadata": {},
   "outputs": [
    {
     "name": "stdout",
     "output_type": "stream",
     "text": [
      "Enter TV sales value180\n",
      "Enter Radio sales value10\n",
      "Enter Newspaper sales value58\n",
      "Estimated Sales value:    13.922\n"
     ]
    },
    {
     "name": "stderr",
     "output_type": "stream",
     "text": [
      "C:\\Users\\SIVASRI\\anaconda3\\lib\\site-packages\\sklearn\\base.py:450: UserWarning: X does not have valid feature names, but RandomForestRegressor was fitted with feature names\n",
      "  warnings.warn(\n"
     ]
    }
   ],
   "source": [
    "#predicting using the model built\n",
    "tv_val = float(input(\"Enter TV sales value\"))\n",
    "radio_val = float(input(\"Enter Radio sales value\"))\n",
    "np_val = float(input(\"Enter Newspaper sales value\"))\n",
    "print(\"Estimated Sales value:   \",clf.predict([[tv_val,radio_val,np_val]])[0])"
   ]
  },
  {
   "cell_type": "code",
   "execution_count": 11,
   "id": "f4012784",
   "metadata": {},
   "outputs": [],
   "source": [
    "pred = clf.predict(x_ts)"
   ]
  },
  {
   "cell_type": "code",
   "execution_count": 12,
   "id": "68f50834",
   "metadata": {},
   "outputs": [
    {
     "data": {
      "image/png": "[encoded data removed]",
      "text/plain": [
       "<Figure size 432x288 with 1 Axes>"
      ]
     },
     "metadata": {
      "needs_background": "light"
     },
     "output_type": "display_data"
    }
   ],
   "source": [
    "# Relation between actual and predicted values\n",
    "plt.scatter(y_ts,pred)\n",
    "plt.title(\"Actual vs Predicted\",color=\"green\")\n",
    "plt.ylabel(\"Predicted data\",color = \"red\")\n",
    "plt.xlabel(\"Actual data\",color = \"red\")\n",
    "plt.show()"
   ]
  },
  {
   "cell_type": "code",
   "execution_count": null,
   "id": "3b8dd6a4",
   "metadata": {},
   "outputs": [],
   "source": []
  }
 ],
 "metadata": {
  "kernelspec": {
   "display_name": "Python 3 (ipykernel)",
   "language": "python",
   "name": "python3"
  },
  "language_info": {
   "codemirror_mode": {
    "name": "ipython",
    "version": 3
   },
   "file_extension": ".py",
   "mimetype": "text/x-python",
   "name": "python",
   "nbconvert_exporter": "python",
   "pygments_lexer": "ipython3",
   "version": "3.9.12"
  }
 },
 "nbformat": 4,
 "nbformat_minor": 5
}
