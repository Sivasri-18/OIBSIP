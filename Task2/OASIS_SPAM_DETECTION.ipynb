{
 "cells": [
  {
   "cell_type": "markdown",
   "id": "16708ee6",
   "metadata": {},
   "source": [
    "# EMAIL SPAM DETECTION WITH MACHINE LEARNING"
   ]
  },
  {
   "cell_type": "markdown",
   "id": "82b74ac3",
   "metadata": {},
   "source": [
    "A machine learning model to predict whether the mail recieved is spam or not.\n",
    "ALGORITHM : Navie Bayes Classification\n",
    "INPUT : Body of the EMAIL\n",
    "OUTPUT: Prediction - SPAM / HAM(NOT SPAM)"
   ]
  },
  {
   "cell_type": "code",
   "execution_count": 1,
   "id": "8ef18c65",
   "metadata": {},
   "outputs": [],
   "source": [
    "#Importing required modules\n",
    "import pandas as pd\n",
    "import matplotlib.pyplot as plt"
   ]
  },
  {
   "cell_type": "code",
   "execution_count": 2,
   "id": "3442a004",
   "metadata": {},
   "outputs": [],
   "source": [
    "#Importing data frame\n",
    "df = pd.DataFrame(pd.read_excel(r\"C:\\Users\\SIVASRI\\Downloads\\OASIS\\spam.xlsx\"))"
   ]
  },
  {
   "cell_type": "code",
   "execution_count": 3,
   "id": "feb40d4d",
   "metadata": {},
   "outputs": [
    {
     "data": {
      "image/png": "[encoded data removed]",
      "text/plain": [
       "<Figure size 432x288 with 1 Axes>"
      ]
     },
     "metadata": {},
     "output_type": "display_data"
    }
   ],
   "source": [
    "#Fetching emails that are labeled as spam\n",
    "sc = df[df['v1']=='spam'].size\n",
    "hc = df.size - df[df['v1']=='spam'].size\n",
    "plt.pie([sc,hc],labels = ['Spam','Ham'],colors = ['Green','Orange'])\n",
    "plt.title('Spam and Ham mails')\n",
    "plt.show()"
   ]
  },
  {
   "cell_type": "code",
   "execution_count": 4,
   "id": "523f2095",
   "metadata": {},
   "outputs": [
    {
     "data": {
      "text/plain": [
       "0       Go until jurong point, crazy.. Available only ...\n",
       "1                           Ok lar... Joking wif u oni...\n",
       "2       Free entry in 2 a wkly comp to win FA Cup fina...\n",
       "3       U dun say so early hor... U c already then say...\n",
       "4       Nah I don't think he goes to usf, he lives aro...\n",
       "                              ...                        \n",
       "5567    This is the 2nd time we have tried 2 contact u...\n",
       "5568                Will ﾌ_ b going to esplanade fr home?\n",
       "5569    Pity, * was in mood for that. So...any other s...\n",
       "5570    The guy did some bitching but I acted like i'd...\n",
       "5571                           Rofl. Its true to its name\n",
       "Name: v2, Length: 5572, dtype: object"
      ]
     },
     "execution_count": 4,
     "metadata": {},
     "output_type": "execute_result"
    }
   ],
   "source": [
    "#Changing the datatype of column into string\n",
    "df.v2 = df.v2.astype(str)\n",
    "df.v2"
   ]
  },
  {
   "cell_type": "code",
   "execution_count": 5,
   "id": "c6142705",
   "metadata": {},
   "outputs": [
    {
     "name": "stdout",
     "output_type": "stream",
     "text": [
      "Total number of features:  8713\n"
     ]
    },
    {
     "name": "stderr",
     "output_type": "stream",
     "text": [
      "C:\\Users\\SIVASRI\\anaconda3\\lib\\site-packages\\sklearn\\utils\\deprecation.py:87: FutureWarning: Function get_feature_names is deprecated; get_feature_names is deprecated in 1.0 and will be removed in 1.2. Please use get_feature_names_out instead.\n",
      "  warnings.warn(msg, category=FutureWarning)\n"
     ]
    }
   ],
   "source": [
    "'''\n",
    "This block of code will count the frequency of each word given in the mail body.As strings can't be directly used \n",
    "in the predictions, this converts the string into releated frequency values.\n",
    "'''\n",
    "from sklearn.feature_extraction.text import CountVectorizer\n",
    "# Initialize the CountVectorizer\n",
    "count_vectorizer = CountVectorizer()\n",
    "# Create the dictionary from the corpus\n",
    "feature_vector = count_vectorizer.fit(df.v2)\n",
    "# Get the feature names\n",
    "features = feature_vector.get_feature_names()\n",
    "print(\"Total number of features: \", len(features))"
   ]
  },
  {
   "cell_type": "code",
   "execution_count": 6,
   "id": "63ef8f3c",
   "metadata": {},
   "outputs": [
    {
     "data": {
      "text/plain": [
       "(5572, 8713)"
      ]
     },
     "execution_count": 6,
     "metadata": {},
     "output_type": "execute_result"
    }
   ],
   "source": [
    "#Transforming the input data into its frequency values\n",
    "tr_features = count_vectorizer.transform(df.v2)\n",
    "tr_features.toarray().shape"
   ]
  },
  {
   "cell_type": "code",
   "execution_count": 7,
   "id": "47acad6a",
   "metadata": {},
   "outputs": [],
   "source": [
    "#Splitting the data into traing and test sets\n",
    "from sklearn.model_selection import train_test_split\n",
    "y = df.v1\n",
    "x = df.v2\n",
    "x_tr,x_ts,y_tr,y_ts = train_test_split(tr_features,y,test_size = 0.25)"
   ]
  },
  {
   "cell_type": "code",
   "execution_count": 8,
   "id": "25963df7",
   "metadata": {},
   "outputs": [
    {
     "data": {
      "text/plain": [
       "BernoulliNB()"
      ]
     },
     "execution_count": 8,
     "metadata": {},
     "output_type": "execute_result"
    }
   ],
   "source": [
    "#Building and training the machine learning model\n",
    "from sklearn.naive_bayes import BernoulliNB\n",
    "nb_clf = BernoulliNB()\n",
    "nb_clf.fit(x_tr.toarray(), y_tr)"
   ]
  },
  {
   "cell_type": "code",
   "execution_count": 9,
   "id": "9d5d0283",
   "metadata": {},
   "outputs": [],
   "source": [
    "#Predictions using the model\n",
    "test_ds_predicted = nb_clf.predict(x_tr.toarray())"
   ]
  },
  {
   "cell_type": "code",
   "execution_count": 10,
   "id": "ddead78e",
   "metadata": {},
   "outputs": [
    {
     "name": "stdout",
     "output_type": "stream",
     "text": [
      "              precision    recall  f1-score   support\n",
      "\n",
      "         ham       0.99      1.00      0.99      3618\n",
      "        spam       1.00      0.91      0.95       561\n",
      "\n",
      "    accuracy                           0.99      4179\n",
      "   macro avg       0.99      0.96      0.97      4179\n",
      "weighted avg       0.99      0.99      0.99      4179\n",
      "\n"
     ]
    }
   ],
   "source": [
    "#Analysis of the model using metrics like accuracy\n",
    "from sklearn import metrics\n",
    "print(metrics.classification_report(y_tr, test_ds_predicted))"
   ]
  },
  {
   "cell_type": "code",
   "execution_count": 11,
   "id": "2bffb416",
   "metadata": {},
   "outputs": [
    {
     "name": "stdout",
     "output_type": "stream",
     "text": [
      "Enter text:   Free entry in 2 a wkly comp to win FA Cup final tkts 21st May 2005. Text FA to 87121 to receive entry question(std txt rate)T&C's apply 08452810075over18's\n",
      "\n",
      "Entered mail body is predicted as:  SPAM\n"
     ]
    }
   ],
   "source": [
    "#Using model for predictions\n",
    "text = input(\"Enter text:   \")\n",
    "print(\"\\nEntered mail body is predicted as: \",nb_clf.predict(count_vectorizer.transform([text]).toarray())[0].upper())"
   ]
  },
  {
   "cell_type": "code",
   "execution_count": null,
   "id": "576382b0",
   "metadata": {},
   "outputs": [],
   "source": []
  }
 ],
 "metadata": {
  "kernelspec": {
   "display_name": "Python 3 (ipykernel)",
   "language": "python",
   "name": "python3"
  },
  "language_info": {
   "codemirror_mode": {
    "name": "ipython",
    "version": 3
   },
   "file_extension": ".py",
   "mimetype": "text/x-python",
   "name": "python",
   "nbconvert_exporter": "python",
   "pygments_lexer": "ipython3",
   "version": "3.9.12"
  }
 },
 "nbformat": 4,
 "nbformat_minor": 5
}
